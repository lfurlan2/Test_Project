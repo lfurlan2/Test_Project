{
 "cells": [
  {
   "cell_type": "code",
   "execution_count": 1,
   "id": "c7edb154",
   "metadata": {},
   "outputs": [
    {
     "name": "stdout",
     "output_type": "stream",
     "text": [
      "Hello World!\n"
     ]
    }
   ],
   "source": [
    "print(\"Hello World!\")"
   ]
  },
  {
   "cell_type": "code",
   "execution_count": 2,
   "id": "f6048555",
   "metadata": {},
   "outputs": [],
   "source": [
    "### Test instructions"
   ]
  },
  {
   "cell_type": "code",
   "execution_count": 3,
   "id": "dd6c4852",
   "metadata": {},
   "outputs": [
    {
     "name": "stdout",
     "output_type": "stream",
     "text": [
      "That's all for the test!\n"
     ]
    }
   ],
   "source": [
    "print(\"That's all for the test!\")"
   ]
  },
  {
   "cell_type": "code",
   "execution_count": null,
   "id": "6386f58a",
   "metadata": {},
   "outputs": [],
   "source": []
  }
 ],
 "metadata": {
  "kernelspec": {
   "display_name": "Python 3 (ipykernel)",
   "language": "python",
   "name": "python3"
  },
  "language_info": {
   "codemirror_mode": {
    "name": "ipython",
    "version": 3
   },
   "file_extension": ".py",
   "mimetype": "text/x-python",
   "name": "python",
   "nbconvert_exporter": "python",
   "pygments_lexer": "ipython3",
   "version": "3.9.12"
  }
 },
 "nbformat": 4,
 "nbformat_minor": 5
}
